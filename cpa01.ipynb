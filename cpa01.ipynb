{
 "cells": [
  {
   "cell_type": "markdown",
   "id": "857390ca",
   "metadata": {},
   "source": [
    "describe the dataset\n",
    "give the URL of where to find the dataset and explain how to download it\n",
    "give at least two interesting questions you have about the data \n",
    "\n",
    "This is a housing price dataset. it contiains these columns: d, date, price, bedrooms, bathrooms, sqft_living, sqft_lot, floors, waterfront, view, condition, grade, sqft_above, sqft_basement, yr_built, yr_renovated, zip code, lat, long, sqft_living15, sqft_lot15.\n",
    "\n",
    "Link: https://raw.githubusercontent.com/rashida048/Datasets/master/home_data.csv\n"
   ]
  },
  {
   "cell_type": "code",
   "execution_count": null,
   "id": "869666a0",
   "metadata": {},
   "outputs": [],
   "source": []
  }
 ],
 "metadata": {
  "kernelspec": {
   "display_name": "Python 3 (ipykernel)",
   "language": "python",
   "name": "python3"
  },
  "language_info": {
   "codemirror_mode": {
    "name": "ipython",
    "version": 3
   },
   "file_extension": ".py",
   "mimetype": "text/x-python",
   "name": "python",
   "nbconvert_exporter": "python",
   "pygments_lexer": "ipython3",
   "version": "3.9.7"
  }
 },
 "nbformat": 4,
 "nbformat_minor": 5
}
